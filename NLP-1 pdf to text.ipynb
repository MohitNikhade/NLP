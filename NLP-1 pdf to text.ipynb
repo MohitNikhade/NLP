{
  "nbformat": 4,
  "nbformat_minor": 0,
  "metadata": {
    "colab": {
      "provenance": []
    },
    "kernelspec": {
      "name": "python3",
      "display_name": "Python 3"
    },
    "language_info": {
      "name": "python"
    }
  },
  "cells": [
    {
      "cell_type": "markdown",
      "source": [
        "***NLP DAY 1***\n",
        "\n",
        "**Step 1: Data Pre-processing**\n",
        "\n",
        "**(i) Read PDF file with python** "
      ],
      "metadata": {
        "id": "Ij0kSCiBoHHu"
      }
    },
    {
      "cell_type": "code",
      "execution_count": 14,
      "metadata": {
        "colab": {
          "base_uri": "https://localhost:8080/"
        },
        "id": "2XsdxPwcn-2_",
        "outputId": "88903708-522a-4e4c-9957-213756221fd1"
      },
      "outputs": [
        {
          "output_type": "stream",
          "name": "stdout",
          "text": [
            "Looking in indexes: https://pypi.org/simple, https://us-python.pkg.dev/colab-wheels/public/simple/\n",
            "Requirement already satisfied: PyPDF2 in /usr/local/lib/python3.9/dist-packages (3.0.1)\n",
            "Requirement already satisfied: typing_extensions>=3.10.0.0 in /usr/local/lib/python3.9/dist-packages (from PyPDF2) (4.5.0)\n"
          ]
        }
      ],
      "source": [
        "!pip install PyPDF2"
      ]
    },
    {
      "cell_type": "code",
      "source": [
        "# importing required modules\n",
        "import PyPDF2\n",
        "\n",
        "# creating a pdf file object\n",
        "data = open('/content/Gym Songs.pdf', 'rb')\n",
        "\n",
        "# creating a pdf reader object\n",
        "reader = PyPDF2.PdfReader(data) \n",
        "\n",
        "# printing number of pages in pdf file\n",
        "print(len(reader.pages))"
      ],
      "metadata": {
        "id": "3kgK2KdIof_r",
        "colab": {
          "base_uri": "https://localhost:8080/"
        },
        "outputId": "912b1975-0dcd-4b83-95be-8c0b8aadb0f7"
      },
      "execution_count": 21,
      "outputs": [
        {
          "output_type": "stream",
          "name": "stdout",
          "text": [
            "2\n"
          ]
        }
      ]
    },
    {
      "cell_type": "markdown",
      "source": [
        "Firstly we imported module 'PyPDF2'\n",
        "\n",
        "Then we imported our pdf formattedd data\n",
        "\n",
        "For reading that data we created reader object (PyPDF2.PdfReader) function help us for doing this\n",
        "\n",
        "Then for reading number of pages in our pdf we used len of 'pages'"
      ],
      "metadata": {
        "id": "lHmB0_RDquxs"
      }
    },
    {
      "cell_type": "code",
      "source": [
        "# creating a page object\n",
        "page = reader.pages[0]"
      ],
      "metadata": {
        "id": "dX-xQfWLru2j"
      },
      "execution_count": 23,
      "outputs": []
    },
    {
      "cell_type": "markdown",
      "source": [
        "We creeated an object 'page' which we used for getting any of the page from our pdf\n",
        "\n",
        "like for 1st page we use 'pages[0]' \n",
        "\n",
        "for 2nd page we use 'pages[1]' and so on..."
      ],
      "metadata": {
        "id": "YDr3Yt6MsTiR"
      }
    },
    {
      "cell_type": "code",
      "source": [
        "# extracting Text from page\n",
        "print(page.extract_text())\n",
        "\n",
        "# closing the pdf file object\n",
        "data.close()"
      ],
      "metadata": {
        "id": "ljUx_jALtCZZ",
        "colab": {
          "base_uri": "https://localhost:8080/"
        },
        "outputId": "39282e9e-9e80-41da-9823-0156c94ba90c"
      },
      "execution_count": 26,
      "outputs": [
        {
          "output_type": "stream",
          "name": "stdout",
          "text": [
            "My Playlis t \n",
            "for Gym  \n",
            " \n",
            " \n",
            " \n",
            " \n",
            " \n",
            " \n"
          ]
        }
      ]
    },
    {
      "cell_type": "markdown",
      "source": [
        "Now in a particular page for extracting text we use 'extract_text()' function."
      ],
      "metadata": {
        "id": "wv96uJazuVYa"
      }
    }
  ]
}