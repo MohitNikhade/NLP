{
  "nbformat": 4,
  "nbformat_minor": 0,
  "metadata": {
    "colab": {
      "provenance": []
    },
    "kernelspec": {
      "name": "python3",
      "display_name": "Python 3"
    },
    "language_info": {
      "name": "python"
    }
  },
  "cells": [
    {
      "cell_type": "code",
      "source": [
        "import nltk\n",
        "from nltk.corpus import stopwords\n",
        "from nltk.tokenize import word_tokenize"
      ],
      "metadata": {
        "id": "2zSSMm91PEAr"
      },
      "execution_count": 26,
      "outputs": []
    },
    {
      "cell_type": "code",
      "source": [
        "# Download the NLTK stopwords if not already downloaded\n",
        "nltk.download('stopwords')\n",
        "nltk.download('punkt')"
      ],
      "metadata": {
        "colab": {
          "base_uri": "https://localhost:8080/"
        },
        "id": "aR8KEW3EPIDg",
        "outputId": "db7d2854-ae52-4fb8-93c0-9c64c3cdf48f"
      },
      "execution_count": 27,
      "outputs": [
        {
          "output_type": "stream",
          "name": "stderr",
          "text": [
            "[nltk_data] Downloading package stopwords to /root/nltk_data...\n",
            "[nltk_data]   Package stopwords is already up-to-date!\n",
            "[nltk_data] Downloading package punkt to /root/nltk_data...\n",
            "[nltk_data]   Package punkt is already up-to-date!\n"
          ]
        },
        {
          "output_type": "execute_result",
          "data": {
            "text/plain": [
              "True"
            ]
          },
          "metadata": {},
          "execution_count": 27
        }
      ]
    },
    {
      "cell_type": "code",
      "source": [
        "# Example sentence\n",
        "sentence = \"The quick brown fox jumps over the lazy dog.\"\n",
        "\n",
        "# Tokenize the sentence into words\n",
        "words = word_tokenize(sentence)"
      ],
      "metadata": {
        "id": "k9NHuJBKPK9w"
      },
      "execution_count": 28,
      "outputs": []
    },
    {
      "cell_type": "code",
      "source": [
        "# Print the original words\n",
        "print(\"Original words:\", words)\n",
        "\n",
        "# Get NLTK's default English stopwords\n",
        "stop_words = set(stopwords.words('english'))"
      ],
      "metadata": {
        "colab": {
          "base_uri": "https://localhost:8080/"
        },
        "id": "wDEpSTf2PQTj",
        "outputId": "27974246-72a4-42e0-f182-8840c65de957"
      },
      "execution_count": 29,
      "outputs": [
        {
          "output_type": "stream",
          "name": "stdout",
          "text": [
            "Original words: ['The', 'quick', 'brown', 'fox', 'jumps', 'over', 'the', 'lazy', 'dog', '.']\n"
          ]
        }
      ]
    },
    {
      "cell_type": "code",
      "source": [
        "# Add custom stopwords\n",
        "custom_stopwords = set(['quick', 'brown'])\n",
        "\n",
        "# Add custom stopwords to the NLTK's default English stopwords\n",
        "stop_words = stop_words.union(custom_stopwords)\n",
        "\n",
        "print(stop_words)"
      ],
      "metadata": {
        "colab": {
          "base_uri": "https://localhost:8080/"
        },
        "id": "pp09c-x-PqDJ",
        "outputId": "823cb897-4082-455e-b07b-008948be49e4"
      },
      "execution_count": 32,
      "outputs": [
        {
          "output_type": "stream",
          "name": "stdout",
          "text": [
            "{\"couldn't\", 'she', 'until', 'doing', 'that', \"should've\", 'again', 'y', 'as', 'me', 'himself', 's', 'brown', \"you've\", \"isn't\", 'does', 'there', 're', 'once', \"that'll\", \"shouldn't\", 'him', 'did', 'been', 'the', 'by', 'such', 'when', \"wouldn't\", 'do', 'just', \"shan't\", 'further', \"didn't\", \"needn't\", 'wouldn', \"mightn't\", \"hasn't\", 'ain', 'yours', 'above', 'shan', 'which', \"it's\", 'itself', \"haven't\", 'themselves', 'most', 'very', 'mightn', \"doesn't\", 'in', 'who', 'this', 'hers', 'up', 'don', 'no', 'down', 'it', 'all', 'needn', 'a', \"you'd\", 'or', 'should', 'you', 'haven', 'shouldn', 'if', 'is', 'off', 'yourselves', 'few', 'weren', 'how', 've', 'am', 'these', 'into', 'our', 'my', 'so', \"hadn't\", 'what', \"weren't\", 'they', 'o', 'through', 'were', 'between', 'couldn', 'having', 'from', 'be', 'where', \"she's\", \"don't\", 'against', 'whom', 'same', \"mustn't\", 'll', 'then', 'why', 'he', 'didn', 'wasn', 'at', 'doesn', 'while', 'ours', 'herself', 'd', 'are', 't', 'only', 'an', 'over', 'about', \"wasn't\", 'isn', 'was', 'their', 'some', 'have', 'ourselves', 'own', 'on', 'hasn', 'your', 'below', 'myself', 'had', 'yourself', \"you're\", 'not', 'too', 'hadn', 'those', 'being', 'her', 'other', 'and', 'both', 'any', 'will', 'them', 'ma', 'more', 'its', 'm', 'for', 'but', 'of', 'after', \"aren't\", 'aren', 'theirs', 'because', 'before', 'nor', 'here', 'out', \"won't\", 'can', 'his', 'each', 'we', 'with', 'won', 'during', 'to', 'i', 'has', 'than', 'now', \"you'll\", 'mustn', 'quick', 'under'}\n"
          ]
        }
      ]
    },
    {
      "cell_type": "code",
      "source": [
        "# Remove stopwords from the words\n",
        "filtered_words = [word for word in words if word not in stop_words]\n",
        "\n",
        "# Print the filtered words\n",
        "print(\"Filtered words:\", filtered_words)"
      ],
      "metadata": {
        "colab": {
          "base_uri": "https://localhost:8080/"
        },
        "id": "aRwz3aIuPsjh",
        "outputId": "5649401c-effd-492e-fc04-059e89679f22"
      },
      "execution_count": 33,
      "outputs": [
        {
          "output_type": "stream",
          "name": "stdout",
          "text": [
            "Filtered words: ['The', 'fox', 'jumps', 'lazy', 'dog', '.']\n"
          ]
        }
      ]
    }
  ]
}