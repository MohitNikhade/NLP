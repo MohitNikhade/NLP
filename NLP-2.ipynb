{
  "nbformat": 4,
  "nbformat_minor": 0,
  "metadata": {
    "colab": {
      "provenance": []
    },
    "kernelspec": {
      "name": "python3",
      "display_name": "Python 3"
    },
    "language_info": {
      "name": "python"
    }
  },
  "cells": [
    {
      "cell_type": "markdown",
      "source": [
        "**Step 1: Data Pre-processing**\n",
        "\n",
        "**(ii) Working with text file in Python**"
      ],
      "metadata": {
        "id": "1wS7vgNa96Uf"
      }
    },
    {
      "cell_type": "code",
      "execution_count": 1,
      "metadata": {
        "colab": {
          "base_uri": "https://localhost:8080/"
        },
        "id": "0fvYbZAx94MX",
        "outputId": "afe60f5f-6881-4eaf-ac8c-403e410b2329"
      },
      "outputs": [
        {
          "output_type": "stream",
          "name": "stdout",
          "text": [
            "Anxiety \n",
            "Caffaine Addiction\n",
            "Depression\n",
            "Stress\n"
          ]
        }
      ],
      "source": [
        "text_data = open('/content/Gym Bros.txt', 'r')\n",
        "print(text_data.read())"
      ]
    }
  ]
}
